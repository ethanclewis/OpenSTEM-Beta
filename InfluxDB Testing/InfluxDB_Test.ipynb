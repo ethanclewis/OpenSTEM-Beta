{
 "cells": [
  {
   "cell_type": "code",
   "execution_count": 16,
   "metadata": {},
   "outputs": [],
   "source": [
    "import time\n",
    "from influxdb_client import InfluxDBClient, Point\n",
    "from influxdb_client.client.write_api import SYNCHRONOUS\n",
    "import certifi\n",
    "import pandas as pd"
   ]
  },
  {
   "cell_type": "markdown",
   "metadata": {},
   "source": [
    "## Database Connection"
   ]
  },
  {
   "cell_type": "code",
   "execution_count": 17,
   "metadata": {},
   "outputs": [],
   "source": [
    "# InfluxDB configuration\n",
    "token = '8Kph_oFbnNqTvgUfERhTJveJpw1A08-HDsnhftEIYj8HRSUJSmKIdoPZdaIbNeIkG4likhDrOtr5FgyF5W03hg=='\n",
    "org = \"Ethan\"\n",
    "bucket = \"Test\"  # Use \"bucket\" instead of \"database\" in influxdb-client\n",
    "url = \"https://us-east-1-1.aws.cloud2.influxdata.com\"\n",
    "\n",
    "# Create InfluxDB client\n",
    "client = InfluxDBClient(url=url, token=token, org=org, ssl_ca_cert=certifi.where())\n",
    "write_api = client.write_api(write_options=SYNCHRONOUS)"
   ]
  },
  {
   "cell_type": "markdown",
   "metadata": {},
   "source": [
    "## Test Data"
   ]
  },
  {
   "cell_type": "code",
   "execution_count": 18,
   "metadata": {},
   "outputs": [],
   "source": [
    "# Example sensor data (hardcoded)\n",
    "dht_sensor_data = [\n",
    "    {\"Zone\": \"Zone 1\", \"Temp_C\": 20.5, \"Temp_F\": 68.9, \"Humidity\": 55.0},\n",
    "    {\"Zone\": \"Zone 2\", \"Temp_C\": 21.0, \"Temp_F\": 69.8, \"Humidity\": 60.0},\n",
    "    {\"Zone\": \"Zone 3\", \"Temp_C\": 19.8, \"Temp_F\": 67.6, \"Humidity\": 58.0},\n",
    "]\n",
    "\n",
    "water_sensor_data = [\n",
    "    {\"sensor\": \"water_sensor\", \"RTD\": 0.98, \"pH\": 6.5, \"EC\": 1.1},\n",
    "    {\"sensor\": \"water_sensor\", \"RTD\": 0.95, \"pH\": 6.6, \"EC\": 1.2},\n",
    "    {\"sensor\": \"water_sensor\", \"RTD\": 0.99, \"pH\": 6.4, \"EC\": 1.3},\n",
    "]"
   ]
  },
  {
   "cell_type": "markdown",
   "metadata": {},
   "source": [
    "## Data Upload Functions"
   ]
  },
  {
   "cell_type": "code",
   "execution_count": 19,
   "metadata": {},
   "outputs": [],
   "source": [
    "# Function to upload DHT sensor data to InfluxDB\n",
    "def upload_dht_data(data):\n",
    "    for entry in data:\n",
    "        point = (\n",
    "            Point(\"dht_sensors\")  # Measurement for DHT sensors\n",
    "            .tag(\"Zone\", entry[\"Zone\"])  # Tag for sensor type\n",
    "            .field(\"Temp_C\", entry[\"Temp_C\"])  # Temperature in Celsius\n",
    "            .field(\"Temp_F\", entry[\"Temp_F\"])  # Temperature in Fahrenheit\n",
    "            .field(\"Humidity\", entry[\"Humidity\"])  # Humidity level\n",
    "        )\n",
    "        write_api.write(bucket=bucket, org=org, record=point)\n",
    "        print(f\"Uploaded DHT sensor data from {entry['Zone']}: {entry}\")\n",
    "        time.sleep(1)  # Optional: Delay to simulate real-time data collection\n",
    "\n",
    "# Function to upload water sensor data to InfluxDB\n",
    "def upload_water_data(data):\n",
    "    for entry in data:\n",
    "        point = (\n",
    "            Point(\"water_sensors\")  # Measurement for water sensors\n",
    "            .field(\"RTD\", entry[\"RTD\"])  # RTD value\n",
    "            .field(\"pH\", entry[\"pH\"])  # pH value\n",
    "            .field(\"EC\", entry[\"EC\"])  # Electrical conductivity\n",
    "        )\n",
    "        write_api.write(bucket=bucket, org=org, record=point)\n",
    "        print(f\"Uploaded water sensor data: {entry}\")\n",
    "        time.sleep(1)  # Optional: Delay to simulate real-time data collection"
   ]
  },
  {
   "cell_type": "markdown",
   "metadata": {},
   "source": [
    "## Data Upload"
   ]
  },
  {
   "cell_type": "code",
   "execution_count": 20,
   "metadata": {},
   "outputs": [
    {
     "name": "stdout",
     "output_type": "stream",
     "text": [
      "Uploaded DHT sensor data from Zone 1: {'Zone': 'Zone 1', 'Temp_C': 20.5, 'Temp_F': 68.9, 'Humidity': 55.0}\n",
      "Uploaded DHT sensor data from Zone 2: {'Zone': 'Zone 2', 'Temp_C': 21.0, 'Temp_F': 69.8, 'Humidity': 60.0}\n",
      "Uploaded DHT sensor data from Zone 3: {'Zone': 'Zone 3', 'Temp_C': 19.8, 'Temp_F': 67.6, 'Humidity': 58.0}\n"
     ]
    }
   ],
   "source": [
    "# Upload data for DHT sensors\n",
    "upload_dht_data(dht_sensor_data)"
   ]
  },
  {
   "cell_type": "code",
   "execution_count": 21,
   "metadata": {},
   "outputs": [
    {
     "name": "stdout",
     "output_type": "stream",
     "text": [
      "Uploaded water sensor data: {'sensor': 'water_sensor', 'RTD': 0.98, 'pH': 6.5, 'EC': 1.1}\n",
      "Uploaded water sensor data: {'sensor': 'water_sensor', 'RTD': 0.95, 'pH': 6.6, 'EC': 1.2}\n",
      "Uploaded water sensor data: {'sensor': 'water_sensor', 'RTD': 0.99, 'pH': 6.4, 'EC': 1.3}\n"
     ]
    }
   ],
   "source": [
    "# Upload data for water sensors\n",
    "upload_water_data(water_sensor_data)"
   ]
  },
  {
   "cell_type": "markdown",
   "metadata": {},
   "source": [
    "## Sample Queries"
   ]
  },
  {
   "cell_type": "markdown",
   "metadata": {},
   "source": [
    "Return All DHT Data"
   ]
  },
  {
   "cell_type": "code",
   "execution_count": 40,
   "metadata": {},
   "outputs": [
    {
     "data": {
      "text/html": [
       "<div>\n",
       "<style scoped>\n",
       "    .dataframe tbody tr th:only-of-type {\n",
       "        vertical-align: middle;\n",
       "    }\n",
       "\n",
       "    .dataframe tbody tr th {\n",
       "        vertical-align: top;\n",
       "    }\n",
       "\n",
       "    .dataframe thead th {\n",
       "        text-align: right;\n",
       "    }\n",
       "</style>\n",
       "<table border=\"1\" class=\"dataframe\">\n",
       "  <thead>\n",
       "    <tr style=\"text-align: right;\">\n",
       "      <th></th>\n",
       "      <th>time</th>\n",
       "      <th>sensor</th>\n",
       "      <th>Humidity</th>\n",
       "      <th>Temp_C</th>\n",
       "      <th>Temp_F</th>\n",
       "    </tr>\n",
       "  </thead>\n",
       "  <tbody>\n",
       "    <tr>\n",
       "      <th>0</th>\n",
       "      <td>2024-09-09 14:41:03.937043-04:00</td>\n",
       "      <td>DHT17</td>\n",
       "      <td>55.0</td>\n",
       "      <td>20.5</td>\n",
       "      <td>68.9</td>\n",
       "    </tr>\n",
       "    <tr>\n",
       "      <th>1</th>\n",
       "      <td>2024-09-09 14:41:05.114432-04:00</td>\n",
       "      <td>DHT18</td>\n",
       "      <td>60.0</td>\n",
       "      <td>21.0</td>\n",
       "      <td>69.8</td>\n",
       "    </tr>\n",
       "    <tr>\n",
       "      <th>2</th>\n",
       "      <td>2024-09-09 14:41:06.189103-04:00</td>\n",
       "      <td>DHT22</td>\n",
       "      <td>58.0</td>\n",
       "      <td>19.8</td>\n",
       "      <td>67.6</td>\n",
       "    </tr>\n",
       "  </tbody>\n",
       "</table>\n",
       "</div>"
      ],
      "text/plain": [
       "                              time sensor  Humidity  Temp_C  Temp_F\n",
       "0 2024-09-09 14:41:03.937043-04:00  DHT17      55.0    20.5    68.9\n",
       "1 2024-09-09 14:41:05.114432-04:00  DHT18      60.0    21.0    69.8\n",
       "2 2024-09-09 14:41:06.189103-04:00  DHT22      58.0    19.8    67.6"
      ]
     },
     "execution_count": 40,
     "metadata": {},
     "output_type": "execute_result"
    }
   ],
   "source": [
    "# Query\n",
    "querier = client.query_api()\n",
    "tables = querier.query(f'''\n",
    "from(bucket: \"{bucket}\")\n",
    "  |> range(start: -1y)\n",
    "  |> filter(fn: (r) => r[\"_measurement\"] == \"dht_sensors\")''',  #DHT Data \n",
    "  org=org)\n",
    "\n",
    "# Data Extraction\n",
    "records = []\n",
    "for table in tables:\n",
    "    for record in table.records:\n",
    "        records.append({\n",
    "            'time': record.get_time(),\n",
    "            'sensor': record.values['sensor'],\n",
    "            record.get_field(): record.get_value()\n",
    "        })\n",
    "\n",
    "# Convert to Pandas DataFrame\n",
    "df = pd.DataFrame(records)\n",
    "df = df.pivot_table(index=['time', 'sensor'], values=['Temp_C', 'Temp_F', 'Humidity'], aggfunc='first').reset_index() # Convert to fields\n",
    "df['time'] = pd.to_datetime(df['time']).dt.tz_convert('US/Eastern') # Adjust 'time' to EST\n",
    "\n",
    "df"
   ]
  },
  {
   "cell_type": "markdown",
   "metadata": {},
   "source": [
    "Return All Water Data"
   ]
  },
  {
   "cell_type": "code",
   "execution_count": 38,
   "metadata": {},
   "outputs": [
    {
     "data": {
      "text/html": [
       "<div>\n",
       "<style scoped>\n",
       "    .dataframe tbody tr th:only-of-type {\n",
       "        vertical-align: middle;\n",
       "    }\n",
       "\n",
       "    .dataframe tbody tr th {\n",
       "        vertical-align: top;\n",
       "    }\n",
       "\n",
       "    .dataframe thead th {\n",
       "        text-align: right;\n",
       "    }\n",
       "</style>\n",
       "<table border=\"1\" class=\"dataframe\">\n",
       "  <thead>\n",
       "    <tr style=\"text-align: right;\">\n",
       "      <th></th>\n",
       "      <th>time</th>\n",
       "      <th>sensor</th>\n",
       "      <th>EC</th>\n",
       "      <th>RTD</th>\n",
       "      <th>pH</th>\n",
       "    </tr>\n",
       "  </thead>\n",
       "  <tbody>\n",
       "    <tr>\n",
       "      <th>0</th>\n",
       "      <td>2024-09-09 14:41:07.772529-04:00</td>\n",
       "      <td>water_sensor</td>\n",
       "      <td>1.1</td>\n",
       "      <td>0.98</td>\n",
       "      <td>6.5</td>\n",
       "    </tr>\n",
       "    <tr>\n",
       "      <th>1</th>\n",
       "      <td>2024-09-09 14:41:08.943115-04:00</td>\n",
       "      <td>water_sensor</td>\n",
       "      <td>1.2</td>\n",
       "      <td>0.95</td>\n",
       "      <td>6.6</td>\n",
       "    </tr>\n",
       "    <tr>\n",
       "      <th>2</th>\n",
       "      <td>2024-09-09 14:41:10.043278-04:00</td>\n",
       "      <td>water_sensor</td>\n",
       "      <td>1.3</td>\n",
       "      <td>0.99</td>\n",
       "      <td>6.4</td>\n",
       "    </tr>\n",
       "  </tbody>\n",
       "</table>\n",
       "</div>"
      ],
      "text/plain": [
       "                              time        sensor   EC   RTD   pH\n",
       "0 2024-09-09 14:41:07.772529-04:00  water_sensor  1.1  0.98  6.5\n",
       "1 2024-09-09 14:41:08.943115-04:00  water_sensor  1.2  0.95  6.6\n",
       "2 2024-09-09 14:41:10.043278-04:00  water_sensor  1.3  0.99  6.4"
      ]
     },
     "execution_count": 38,
     "metadata": {},
     "output_type": "execute_result"
    }
   ],
   "source": [
    "# Query\n",
    "querier = client.query_api()\n",
    "tables = querier.query(f'''\n",
    "from(bucket: \"{bucket}\")\n",
    "  |> range(start: -1y)\n",
    "  |> filter(fn: (r) => r[\"_measurement\"] == \"water_sensors\")''',  #Water data\n",
    "  org=org)\n",
    "\n",
    "# Data Extraction\n",
    "records = []\n",
    "for table in tables:\n",
    "    for record in table.records:\n",
    "        records.append({\n",
    "            'time': record.get_time(),\n",
    "            'sensor': record.values['sensor'],\n",
    "            record.get_field(): record.get_value()\n",
    "        })\n",
    "\n",
    "# Convert to Pandas DataFrame\n",
    "df = pd.DataFrame(records)\n",
    "df = df.pivot_table(index=['time', 'sensor'], values=['EC', 'pH', 'RTD'], aggfunc='first').reset_index() # Convert to fields\n",
    "df['time'] = pd.to_datetime(df['time']).dt.tz_convert('US/Eastern') # Adjust 'time' to EST\n",
    "\n",
    "df"
   ]
  },
  {
   "cell_type": "markdown",
   "metadata": {},
   "source": [
    "Return Specific DHT Data"
   ]
  },
  {
   "cell_type": "code",
   "execution_count": 39,
   "metadata": {},
   "outputs": [
    {
     "data": {
      "text/html": [
       "<div>\n",
       "<style scoped>\n",
       "    .dataframe tbody tr th:only-of-type {\n",
       "        vertical-align: middle;\n",
       "    }\n",
       "\n",
       "    .dataframe tbody tr th {\n",
       "        vertical-align: top;\n",
       "    }\n",
       "\n",
       "    .dataframe thead th {\n",
       "        text-align: right;\n",
       "    }\n",
       "</style>\n",
       "<table border=\"1\" class=\"dataframe\">\n",
       "  <thead>\n",
       "    <tr style=\"text-align: right;\">\n",
       "      <th></th>\n",
       "      <th>time</th>\n",
       "      <th>sensor</th>\n",
       "      <th>Humidity</th>\n",
       "      <th>Temp_C</th>\n",
       "      <th>Temp_F</th>\n",
       "    </tr>\n",
       "  </thead>\n",
       "  <tbody>\n",
       "    <tr>\n",
       "      <th>0</th>\n",
       "      <td>2024-09-09 14:41:03.937043-04:00</td>\n",
       "      <td>DHT17</td>\n",
       "      <td>55.0</td>\n",
       "      <td>20.5</td>\n",
       "      <td>68.9</td>\n",
       "    </tr>\n",
       "  </tbody>\n",
       "</table>\n",
       "</div>"
      ],
      "text/plain": [
       "                              time sensor  Humidity  Temp_C  Temp_F\n",
       "0 2024-09-09 14:41:03.937043-04:00  DHT17      55.0    20.5    68.9"
      ]
     },
     "execution_count": 39,
     "metadata": {},
     "output_type": "execute_result"
    }
   ],
   "source": [
    "# Query\n",
    "querier = client.query_api()\n",
    "tables = querier.query(f'''\n",
    "from(bucket: \"{bucket}\")\n",
    "  |> range(start: -1y)\n",
    "  |> filter(fn: (r) => r[\"_measurement\"] == \"dht_sensors\")\n",
    "  |> filter(fn: (r) => r[\"sensor\"] == \"DHT17\")''',  # DHT17 Data\n",
    "  org=org)\n",
    "\n",
    "# Data Extraction\n",
    "records = []\n",
    "for table in tables:\n",
    "    for record in table.records:\n",
    "        records.append({\n",
    "            'time': record.get_time(),\n",
    "            'sensor': record.values['sensor'],\n",
    "            record.get_field(): record.get_value()\n",
    "        })\n",
    "\n",
    "# Convert to Pandas DataFrame\n",
    "df = pd.DataFrame(records)\n",
    "df = df.pivot_table(index=['time', 'sensor'], values=['Temp_C', 'Temp_F', 'Humidity'], aggfunc='first').reset_index() # Convert to fields\n",
    "df['time'] = pd.to_datetime(df['time']).dt.tz_convert('US/Eastern') # Adjust 'time' to EST\n",
    "\n",
    "df"
   ]
  },
  {
   "cell_type": "code",
   "execution_count": null,
   "metadata": {},
   "outputs": [],
   "source": []
  }
 ],
 "metadata": {
  "kernelspec": {
   "display_name": "Python 3",
   "language": "python",
   "name": "python3"
  },
  "language_info": {
   "codemirror_mode": {
    "name": "ipython",
    "version": 3
   },
   "file_extension": ".py",
   "mimetype": "text/x-python",
   "name": "python",
   "nbconvert_exporter": "python",
   "pygments_lexer": "ipython3",
   "version": "3.11.5"
  }
 },
 "nbformat": 4,
 "nbformat_minor": 2
}
