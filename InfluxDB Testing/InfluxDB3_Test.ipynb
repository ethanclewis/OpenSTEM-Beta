{
 "cells": [
  {
   "cell_type": "code",
   "execution_count": 31,
   "metadata": {},
   "outputs": [],
   "source": [
    "import time\n",
    "from influxdb_client_3 import InfluxDBClient3, Point\n",
    "import certifi\n",
    "import pandas as pd"
   ]
  },
  {
   "cell_type": "markdown",
   "metadata": {},
   "source": [
    "## Database Connection"
   ]
  },
  {
   "cell_type": "code",
   "execution_count": 32,
   "metadata": {},
   "outputs": [],
   "source": [
    "# InfluxDB configuration\n",
    "token = '8Kph_oFbnNqTvgUfERhTJveJpw1A08-HDsnhftEIYj8HRSUJSmKIdoPZdaIbNeIkG4likhDrOtr5FgyF5W03hg=='\n",
    "org = \"Ethan\"\n",
    "host = \"https://us-east-1-1.aws.cloud2.influxdata.com\"\n",
    "client = InfluxDBClient3(host=host, token=token, org=org, ssl_ca_cert=certifi.where())\n",
    "database = \"Test\""
   ]
  },
  {
   "cell_type": "markdown",
   "metadata": {},
   "source": [
    "## Test Data"
   ]
  },
  {
   "cell_type": "code",
   "execution_count": 33,
   "metadata": {},
   "outputs": [],
   "source": [
    "# Example sensor data (hardcoded)\n",
    "dht_sensor_data = [\n",
    "    {\"sensor\": \"DHT17\", \"Temp_C\": 20.5, \"Temp_F\": 68.9, \"Humidity\": 55},\n",
    "    {\"sensor\": \"DHT18\", \"Temp_C\": 21.0, \"Temp_F\": 69.8, \"Humidity\": 60},\n",
    "    {\"sensor\": \"DHT22\", \"Temp_C\": 19.8, \"Temp_F\": 67.6, \"Humidity\": 58},\n",
    "]\n",
    "\n",
    "water_sensor_data = [\n",
    "    {\"sensor\": \"water_sensor\", \"RTD\": 0.98, \"pH\": 6.5, \"EC\": 1.1},\n",
    "    {\"sensor\": \"water_sensor\", \"RTD\": 0.95, \"pH\": 6.6, \"EC\": 1.2},\n",
    "    {\"sensor\": \"water_sensor\", \"RTD\": 0.99, \"pH\": 6.4, \"EC\": 1.3},\n",
    "]"
   ]
  },
  {
   "cell_type": "markdown",
   "metadata": {},
   "source": [
    "## Data Upload Functions"
   ]
  },
  {
   "cell_type": "code",
   "execution_count": 35,
   "metadata": {},
   "outputs": [],
   "source": [
    "# Function to upload DHT sensor data to InfluxDB\n",
    "def upload_dht_data(data):\n",
    "    for entry in data:\n",
    "        point = (\n",
    "            Point(\"dht_sensors\")  # Measurement for DHT sensors\n",
    "            .tag(\"sensor\", entry[\"sensor\"])  # Tag for sensor type\n",
    "            .field(\"Temp_C\", entry[\"Temp_C\"])  # Temperature in Celsius\n",
    "            .field(\"Temp_F\", entry[\"Temp_F\"])  # Temperature in Fahrenheit\n",
    "            .field(\"Humidity\", entry[\"Humidity\"])  # Humidity level\n",
    "        )\n",
    "        client.write(database=database, record=point)\n",
    "        print(f\"Uploaded DHT sensor data from {entry['sensor']}: {entry}\")\n",
    "        time.sleep(1)  # Optional: Delay to simulate real-time data collection\n",
    "\n",
    "# Function to upload water sensor data to InfluxDB\n",
    "def upload_water_data(data):\n",
    "    for entry in data:\n",
    "        point = (\n",
    "            Point(\"water_sensors\")  # Measurement for water sensors\n",
    "            .tag(\"sensor\", entry[\"sensor\"])  # Tag for sensor type\n",
    "            .field(\"RTD\", entry[\"RTD\"])  # RTD value\n",
    "            .field(\"pH\", entry[\"pH\"])  # pH value\n",
    "            .field(\"EC\", entry[\"EC\"])  # Electrical conductivity\n",
    "        )\n",
    "        client.write(database=database, record=point)\n",
    "        print(f\"Uploaded water sensor data from {entry['sensor']}: {entry}\")\n",
    "        time.sleep(1)  # Optional: Delay to simulate real-time data collection"
   ]
  },
  {
   "cell_type": "markdown",
   "metadata": {},
   "source": [
    "## Data Upload"
   ]
  },
  {
   "cell_type": "code",
   "execution_count": 36,
   "metadata": {},
   "outputs": [
    {
     "name": "stdout",
     "output_type": "stream",
     "text": [
      "Uploaded DHT sensor data from DHT17: {'sensor': 'DHT17', 'Temp_C': 20.5, 'Temp_F': 68.9, 'Humidity': 55}\n",
      "Uploaded DHT sensor data from DHT18: {'sensor': 'DHT18', 'Temp_C': 21.0, 'Temp_F': 69.8, 'Humidity': 60}\n",
      "Uploaded DHT sensor data from DHT22: {'sensor': 'DHT22', 'Temp_C': 19.8, 'Temp_F': 67.6, 'Humidity': 58}\n"
     ]
    }
   ],
   "source": [
    "# Upload data for DHT sensors\n",
    "upload_dht_data(dht_sensor_data)"
   ]
  },
  {
   "cell_type": "code",
   "execution_count": 37,
   "metadata": {},
   "outputs": [
    {
     "name": "stdout",
     "output_type": "stream",
     "text": [
      "Uploaded water sensor data from water_sensor: {'sensor': 'water_sensor', 'RTD': 0.98, 'pH': 6.5, 'EC': 1.1}\n",
      "Uploaded water sensor data from water_sensor: {'sensor': 'water_sensor', 'RTD': 0.95, 'pH': 6.6, 'EC': 1.2}\n",
      "Uploaded water sensor data from water_sensor: {'sensor': 'water_sensor', 'RTD': 0.99, 'pH': 6.4, 'EC': 1.3}\n"
     ]
    }
   ],
   "source": [
    "# Upload data for water sensors\n",
    "upload_water_data(water_sensor_data)"
   ]
  },
  {
   "cell_type": "markdown",
   "metadata": {},
   "source": [
    "## Sample Queries"
   ]
  },
  {
   "cell_type": "code",
   "execution_count": 27,
   "metadata": {},
   "outputs": [
    {
     "data": {
      "text/html": [
       "<div>\n",
       "<style scoped>\n",
       "    .dataframe tbody tr th:only-of-type {\n",
       "        vertical-align: middle;\n",
       "    }\n",
       "\n",
       "    .dataframe tbody tr th {\n",
       "        vertical-align: top;\n",
       "    }\n",
       "\n",
       "    .dataframe thead th {\n",
       "        text-align: right;\n",
       "    }\n",
       "</style>\n",
       "<table border=\"1\" class=\"dataframe\">\n",
       "  <thead>\n",
       "    <tr style=\"text-align: right;\">\n",
       "      <th></th>\n",
       "      <th>Humidity</th>\n",
       "      <th>Temp_C</th>\n",
       "      <th>Temp_F</th>\n",
       "      <th>sensor</th>\n",
       "      <th>time</th>\n",
       "    </tr>\n",
       "  </thead>\n",
       "  <tbody>\n",
       "    <tr>\n",
       "      <th>0</th>\n",
       "      <td>55</td>\n",
       "      <td>20.5</td>\n",
       "      <td>68.9</td>\n",
       "      <td>DHT17</td>\n",
       "      <td>2024-09-05 17:16:44.881806030-04:00</td>\n",
       "    </tr>\n",
       "  </tbody>\n",
       "</table>\n",
       "</div>"
      ],
      "text/plain": [
       "   Humidity  Temp_C  Temp_F sensor                                time\n",
       "0        55    20.5    68.9  DHT17 2024-09-05 17:16:44.881806030-04:00"
      ]
     },
     "execution_count": 27,
     "metadata": {},
     "output_type": "execute_result"
    }
   ],
   "source": [
    "# Query\n",
    "query = \"\"\"\n",
    "SELECT *\n",
    "FROM 'dht_sensors'\n",
    "WHERE \"sensor\" = 'DHT17'\n",
    "\"\"\"\n",
    "\n",
    "# Execute the query\n",
    "table = client.query(query=query, database=\"Test\", language='sql')\n",
    "\n",
    "# Format results\n",
    "df = table.to_pandas().sort_values(by=\"time\")\n",
    "# 'time' timezone conversion\n",
    "df['time'] = pd.to_datetime(df['time']).dt.tz_localize('UTC')\n",
    "df['time'] = df['time'].dt.tz_convert('US/Eastern')\n",
    "\n",
    "df"
   ]
  },
  {
   "cell_type": "code",
   "execution_count": 38,
   "metadata": {},
   "outputs": [
    {
     "data": {
      "text/html": [
       "<div>\n",
       "<style scoped>\n",
       "    .dataframe tbody tr th:only-of-type {\n",
       "        vertical-align: middle;\n",
       "    }\n",
       "\n",
       "    .dataframe tbody tr th {\n",
       "        vertical-align: top;\n",
       "    }\n",
       "\n",
       "    .dataframe thead th {\n",
       "        text-align: right;\n",
       "    }\n",
       "</style>\n",
       "<table border=\"1\" class=\"dataframe\">\n",
       "  <thead>\n",
       "    <tr style=\"text-align: right;\">\n",
       "      <th></th>\n",
       "      <th>Humidity</th>\n",
       "      <th>Temp_C</th>\n",
       "      <th>Temp_F</th>\n",
       "      <th>sensor</th>\n",
       "      <th>time</th>\n",
       "    </tr>\n",
       "  </thead>\n",
       "  <tbody>\n",
       "    <tr>\n",
       "      <th>0</th>\n",
       "      <td>55</td>\n",
       "      <td>20.5</td>\n",
       "      <td>68.9</td>\n",
       "      <td>DHT17</td>\n",
       "      <td>2024-09-06 09:58:44.943561814-04:00</td>\n",
       "    </tr>\n",
       "    <tr>\n",
       "      <th>1</th>\n",
       "      <td>60</td>\n",
       "      <td>21.0</td>\n",
       "      <td>69.8</td>\n",
       "      <td>DHT18</td>\n",
       "      <td>2024-09-06 09:58:46.062427949-04:00</td>\n",
       "    </tr>\n",
       "    <tr>\n",
       "      <th>2</th>\n",
       "      <td>58</td>\n",
       "      <td>19.8</td>\n",
       "      <td>67.6</td>\n",
       "      <td>DHT22</td>\n",
       "      <td>2024-09-06 09:58:47.118459821-04:00</td>\n",
       "    </tr>\n",
       "  </tbody>\n",
       "</table>\n",
       "</div>"
      ],
      "text/plain": [
       "   Humidity  Temp_C  Temp_F sensor                                time\n",
       "0        55    20.5    68.9  DHT17 2024-09-06 09:58:44.943561814-04:00\n",
       "1        60    21.0    69.8  DHT18 2024-09-06 09:58:46.062427949-04:00\n",
       "2        58    19.8    67.6  DHT22 2024-09-06 09:58:47.118459821-04:00"
      ]
     },
     "execution_count": 38,
     "metadata": {},
     "output_type": "execute_result"
    }
   ],
   "source": [
    "# Query\n",
    "query = \"\"\"\n",
    "SELECT *\n",
    "FROM 'dht_sensors'\n",
    "\"\"\"\n",
    "\n",
    "# Execute the query\n",
    "table = client.query(query=query, database=\"Test\", language='sql')\n",
    "\n",
    "# Format results\n",
    "df = table.to_pandas().sort_values(by=\"time\")\n",
    "# 'time' timezone conversion\n",
    "df['time'] = pd.to_datetime(df['time']).dt.tz_localize('UTC')\n",
    "df['time'] = df['time'].dt.tz_convert('US/Eastern')\n",
    "\n",
    "df"
   ]
  },
  {
   "cell_type": "code",
   "execution_count": 40,
   "metadata": {},
   "outputs": [
    {
     "data": {
      "text/html": [
       "<div>\n",
       "<style scoped>\n",
       "    .dataframe tbody tr th:only-of-type {\n",
       "        vertical-align: middle;\n",
       "    }\n",
       "\n",
       "    .dataframe tbody tr th {\n",
       "        vertical-align: top;\n",
       "    }\n",
       "\n",
       "    .dataframe thead th {\n",
       "        text-align: right;\n",
       "    }\n",
       "</style>\n",
       "<table border=\"1\" class=\"dataframe\">\n",
       "  <thead>\n",
       "    <tr style=\"text-align: right;\">\n",
       "      <th></th>\n",
       "      <th>EC</th>\n",
       "      <th>RTD</th>\n",
       "      <th>pH</th>\n",
       "      <th>sensor</th>\n",
       "      <th>time</th>\n",
       "    </tr>\n",
       "  </thead>\n",
       "  <tbody>\n",
       "    <tr>\n",
       "      <th>0</th>\n",
       "      <td>1.1</td>\n",
       "      <td>0.98</td>\n",
       "      <td>6.5</td>\n",
       "      <td>water_sensor</td>\n",
       "      <td>2024-09-06 09:58:54.373186114-04:00</td>\n",
       "    </tr>\n",
       "    <tr>\n",
       "      <th>1</th>\n",
       "      <td>1.2</td>\n",
       "      <td>0.95</td>\n",
       "      <td>6.6</td>\n",
       "      <td>water_sensor</td>\n",
       "      <td>2024-09-06 09:58:55.491489392-04:00</td>\n",
       "    </tr>\n",
       "    <tr>\n",
       "      <th>2</th>\n",
       "      <td>1.3</td>\n",
       "      <td>0.99</td>\n",
       "      <td>6.4</td>\n",
       "      <td>water_sensor</td>\n",
       "      <td>2024-09-06 09:58:56.541043596-04:00</td>\n",
       "    </tr>\n",
       "  </tbody>\n",
       "</table>\n",
       "</div>"
      ],
      "text/plain": [
       "    EC   RTD   pH        sensor                                time\n",
       "0  1.1  0.98  6.5  water_sensor 2024-09-06 09:58:54.373186114-04:00\n",
       "1  1.2  0.95  6.6  water_sensor 2024-09-06 09:58:55.491489392-04:00\n",
       "2  1.3  0.99  6.4  water_sensor 2024-09-06 09:58:56.541043596-04:00"
      ]
     },
     "execution_count": 40,
     "metadata": {},
     "output_type": "execute_result"
    }
   ],
   "source": [
    "# Query\n",
    "query = \"\"\"\n",
    "SELECT *\n",
    "FROM 'water_sensors'\n",
    "\"\"\"\n",
    "\n",
    "# Execute the query\n",
    "table = client.query(query=query, database=\"Test\", language='sql')\n",
    "\n",
    "# Format results\n",
    "df = table.to_pandas().sort_values(by=\"time\")\n",
    "# 'time' timezone conversion\n",
    "df['time'] = pd.to_datetime(df['time']).dt.tz_localize('UTC')\n",
    "df['time'] = df['time'].dt.tz_convert('US/Eastern')\n",
    "\n",
    "df"
   ]
  },
  {
   "cell_type": "code",
   "execution_count": null,
   "metadata": {},
   "outputs": [],
   "source": []
  }
 ],
 "metadata": {
  "kernelspec": {
   "display_name": "Python 3",
   "language": "python",
   "name": "python3"
  },
  "language_info": {
   "codemirror_mode": {
    "name": "ipython",
    "version": 3
   },
   "file_extension": ".py",
   "mimetype": "text/x-python",
   "name": "python",
   "nbconvert_exporter": "python",
   "pygments_lexer": "ipython3",
   "version": "3.11.5"
  }
 },
 "nbformat": 4,
 "nbformat_minor": 2
}
